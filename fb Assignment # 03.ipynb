{
 "cells": [
  {
   "cell_type": "markdown",
   "metadata": {},
   "source": [
    "# Make a calculator using Python with addition , subtraction , multiplication ,division and power."
   ]
  },
  {
   "cell_type": "code",
   "execution_count": 1,
   "metadata": {},
   "outputs": [
    {
     "name": "stdout",
     "output_type": "stream",
     "text": [
      "Enter any number.2\n",
      "Enter any number.3\n",
      "ENTER ANY OPERATOR**\n",
      "The answer is:  8\n"
     ]
    }
   ],
   "source": [
    "val1=int(input(\"Enter any number.\"))\n",
    "val2=int(input(\"Enter any number.\"))\n",
    "operator=input(\"ENTER ANY OPERATOR\")\n",
    "\n",
    "if operator == '+':\n",
    "    val=val1 + val2\n",
    "    print(\"The answer is: \" , val)\n",
    "if operator == '-':\n",
    "    val=val1 - val2\n",
    "    print(\"The answer is: \" , val)\n",
    "if operator == '*':\n",
    "    val=val1 * val2\n",
    "    print(\"The answer is: \" , val)\n",
    "if operator == '/':\n",
    "    val=val1 / val2\n",
    "    print(\"The answer is: \" , val)\n",
    "if operator == '**':\n",
    "    val=val1 ** val2\n",
    "    print(\"The answer is: \" , val)"
   ]
  },
  {
   "cell_type": "markdown",
   "metadata": {},
   "source": [
    "# 2. Write a program to check if there is any numeric value in list using for loop\n"
   ]
  },
  {
   "cell_type": "code",
   "execution_count": 22,
   "metadata": {},
   "outputs": [
    {
     "name": "stdout",
     "output_type": "stream",
     "text": [
      "The value exist in list\n",
      "The value 3 exist in list\n"
     ]
    }
   ],
   "source": [
    "lst=[2,3,4,5,6]\n",
    "\n",
    "for i in lst:\n",
    "    if i==3:\n",
    "        print(\"The value exist in list\")\n",
    "       \n",
    "        \n",
    "\n",
    "print(\"The value 3 exist in list\")\n",
    "\n",
    "    "
   ]
  },
  {
   "cell_type": "markdown",
   "metadata": {},
   "source": [
    "# 3. Write a Python script to add a key to a dictionary"
   ]
  },
  {
   "cell_type": "code",
   "execution_count": 28,
   "metadata": {},
   "outputs": [
    {
     "name": "stdout",
     "output_type": "stream",
     "text": [
      "{'fname': 'Muhammad', 'lname': 'hamza', 'Depart': 'IT'}\n"
     ]
    },
    {
     "data": {
      "text/plain": [
       "{'fname': 'Muhammad',\n",
       " 'lname': 'hamza',\n",
       " 'Depart': 'IT',\n",
       " 'Address': 'ABC house No 123 Karachi'}"
      ]
     },
     "execution_count": 28,
     "metadata": {},
     "output_type": "execute_result"
    }
   ],
   "source": [
    "Dict={'fname':'Muhammad','lname':'hamza','Depart':'IT'}\n",
    "print(Dict)\n",
    "\n",
    "Dict['Address']='ABC house No 123 Karachi'\n",
    "Dict"
   ]
  },
  {
   "cell_type": "markdown",
   "metadata": {},
   "source": [
    "# 4. Write a Python program to sum all the numeric items in a dictionary"
   ]
  },
  {
   "cell_type": "code",
   "execution_count": 56,
   "metadata": {},
   "outputs": [
    {
     "data": {
      "text/plain": [
       "9"
      ]
     },
     "execution_count": 56,
     "metadata": {},
     "output_type": "execute_result"
    }
   ],
   "source": [
    "z={'x':2,'y':4,'z':3}\n",
    "sum(z.values())\n"
   ]
  },
  {
   "cell_type": "markdown",
   "metadata": {},
   "source": [
    "# 5. Write a program to identify duplicate values from list\n"
   ]
  },
  {
   "cell_type": "code",
   "execution_count": 74,
   "metadata": {},
   "outputs": [
    {
     "name": "stdout",
     "output_type": "stream",
     "text": [
      "Now the list is sort:  [11, 15, 15, 20, 20, 20, 30, 30, 40, 40, 50, 50]\n",
      "15\n",
      "20\n",
      "20\n",
      "30\n",
      "40\n",
      "50\n"
     ]
    }
   ],
   "source": [
    "my_list = [20,30,20,30,40,50,15,11,20,40,50,15]\n",
    "my_list.sort()\n",
    "print(\"Now the list is sort: \" ,my_list)\n",
    "for i in range (len (my_list) -1):\n",
    "     if my_list[i] == my_list[i+1]:\n",
    "             print (my_list[i])"
   ]
  },
  {
   "cell_type": "markdown",
   "metadata": {},
   "source": [
    "# Write a Python script to check if a given key already exists in a dictionary"
   ]
  },
  {
   "cell_type": "code",
   "execution_count": 82,
   "metadata": {},
   "outputs": [
    {
     "name": "stdout",
     "output_type": "stream",
     "text": [
      "{'z': 10, 'l': 50, 'c': 74, 'm': 12, 'f': 44, 'g': 19}\n",
      "True\n",
      "True\n"
     ]
    }
   ],
   "source": [
    "x = {'z': 10, 'l': 50, 'c': 74, 'm': 12, 'f': 44, 'g': 19}\n",
    " \n",
    "print(x)\n",
    " \n",
    "if 'z' in x.keys():\n",
    "    print(\"True\")\n",
    "else:\n",
    "    print(\"False\")\n",
    " \n",
    "# Using ternary operator:\n",
    "msg = \"True\" if 'z' in x else \"False\"\n",
    "print(msg)"
   ]
  }
 ],
 "metadata": {
  "kernelspec": {
   "display_name": "Python 3",
   "language": "python",
   "name": "python3"
  },
  "language_info": {
   "codemirror_mode": {
    "name": "ipython",
    "version": 3
   },
   "file_extension": ".py",
   "mimetype": "text/x-python",
   "name": "python",
   "nbconvert_exporter": "python",
   "pygments_lexer": "ipython3",
   "version": "3.7.3"
  }
 },
 "nbformat": 4,
 "nbformat_minor": 2
}
