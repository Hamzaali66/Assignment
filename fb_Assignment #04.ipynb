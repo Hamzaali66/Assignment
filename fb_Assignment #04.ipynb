{
 "cells": [
  {
   "cell_type": "markdown",
   "metadata": {},
   "source": [
    "# Assignment # 4"
   ]
  },
  {
   "cell_type": "code",
   "execution_count": null,
   "metadata": {},
   "outputs": [],
   "source": [
    "# Question1:\n",
    "# Use a dictionary to store information about a person you know. Store their first name, last name, age, \n",
    "# and the city in which they live. You should have keys such as first_name, last_name, age, and city. \n",
    "# Print each piece of information stored in your dictionary. Add a new key value pair about qualification \n",
    "# then update the qualification value to high academic level then delete it.\n"
   ]
  },
  {
   "cell_type": "code",
   "execution_count": null,
   "metadata": {},
   "outputs": [],
   "source": [
    "information={\"first name\":\"Muhammad\", \"last name\":\"jawad\", \"age\":25, \"city\":\"Karachi\"}\n",
    "print(information)\n",
    "information[\"qualification\"]=\"BS computer science\"\n",
    "print(\"Now the new value add in dictionary:\",information)\n",
    "information[\"qualification\"]=\"BS Information technology\"\n",
    "print(\"Now the qualification is update in dictionary:\",information)\n",
    "\n",
    "\n"
   ]
  },
  {
   "cell_type": "code",
   "execution_count": null,
   "metadata": {},
   "outputs": [],
   "source": [
    "# Question2:\n",
    "# Make a dictionary called cities. Use the names of three cities as keys in your dictionary. \n",
    "# Create a dictionary of information about each city and include the country that the city is in, its approximate population,\n",
    "# and one fact about that city. The keys for each city’s dictionary should be something like country, population, and fact. \n",
    "# Print the name of each city and all of the information you have stored about it."
   ]
  },
  {
   "cell_type": "code",
   "execution_count": null,
   "metadata": {},
   "outputs": [],
   "source": [
    "cities={\n",
    "        'Karachi':{\"country\":\"pakistan\",\"population\":\"more than 16 million\",\"Fact\":\"Karachi is among the cheapest city to live in.\"},\n",
    "        'Mumbai':{\"country\":\"India\",\"population\":\"more than 18.41 million\",\"Fact\":\"It's World’s most expensive house is in Mumbai.\"},\n",
    "        'Lahore':{\"country\":\"Pakistan\",\"population\":\"more than 11.13 million\",\"Fact\":\"Lahore is the second largest city of Pakistan and the provincial capital of the Punjab.\"}\n",
    "}\n",
    "\n",
    "print(cities)"
   ]
  },
  {
   "cell_type": "code",
   "execution_count": null,
   "metadata": {},
   "outputs": [],
   "source": [
    "# Question4:\n",
    "# Write a function called favorite_book() that accepts one parameter, title. The function should print a message, \n",
    "# such as One of my favorite books is Alice in Wonderland. Call the function, making sure to include a book title\n",
    "# as an argument in the function call.\n"
   ]
  },
  {
   "cell_type": "code",
   "execution_count": null,
   "metadata": {},
   "outputs": [],
   "source": [
    "def favorite_book(title):\n",
    "    print(title + \" as One of my favorite books\")\n",
    "favorite_book('Math')"
   ]
  },
  {
   "cell_type": "code",
   "execution_count": null,
   "metadata": {},
   "outputs": [],
   "source": [
    "# Question5:\n",
    "# Guess the number game\n",
    "# Write a program which randomly generate a number between 1 to 30 and ask the user in input field to guess the correct number.\n",
    "# Give three chances to user guess the number and also give hint to user if hidden number is greater or smaller than the number\n",
    "# he given to input field.\n"
   ]
  },
  {
   "cell_type": "code",
   "execution_count": 4,
   "metadata": {},
   "outputs": [
    {
     "name": "stdout",
     "output_type": "stream",
     "text": [
      "Guess : 40\n",
      "Guess : 30\n",
      "Guess : 2\n",
      "Sorry! you are failed..\n"
     ]
    }
   ],
   "source": [
    "import random\n",
    "n = random.randint(1, 30)\n",
    "corret_number=8\n",
    "guess_count=0\n",
    "guess_limit=3\n",
    "while guess_count < guess_limit:\n",
    "    guess=int(input(\"Guess : \"))\n",
    "    guess_count +=1\n",
    "    if guess == corret_number:\n",
    "        print(\"You win!\")\n",
    "        break\n",
    "else:\n",
    "    print(\"Sorry! you are failed..\")   \n"
   ]
  },
  {
   "cell_type": "code",
   "execution_count": null,
   "metadata": {},
   "outputs": [],
   "source": []
  }
 ],
 "metadata": {
  "kernelspec": {
   "display_name": "Python 3",
   "language": "python",
   "name": "python3"
  }
 },
 "nbformat": 4,
 "nbformat_minor": 2
}
