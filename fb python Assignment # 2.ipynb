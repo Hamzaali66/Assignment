{
 "cells": [
  {
   "cell_type": "markdown",
   "metadata": {},
   "source": [
    "# 1. Write a program which takes 5 inputs from user for different subject’smarks, total it and generate mark sheet using grades ?\n"
   ]
  },
  {
   "cell_type": "code",
   "execution_count": 22,
   "metadata": {},
   "outputs": [
    {
     "name": "stdout",
     "output_type": "stream",
     "text": [
      "*************** ENTER YOUR SUBJECT MARKS ****************\n",
      "enter your math marks: 88\n",
      "enter your phy marks: 90\n",
      "enter your che marks: 90\n",
      "enter your english marks: 88\n",
      "enter your urdu marks: 90\n",
      "The obtain marks is:  446\n"
     ]
    }
   ],
   "source": [
    "print(\"*************** ENTER YOUR SUBJECT MARKS ****************\")\n",
    "total_marks=500\n",
    "math=int(input(\"enter your math marks: \"))\n",
    "physics=int(input(\"enter your phy marks: \"))\n",
    "chemester=int(input(\"enter your che marks: \"))\n",
    "english=int(input(\"enter your english marks: \"))\n",
    "urdu=int(input(\"enter your urdu marks: \"))\n",
    "\n",
    "obtain_marks=  math+physics+chemester+english+urdu\n",
    "print(\"The obtain marks is: \",obtain_marks)\n",
    "\n",
    "percentage=(obtain_marks/total_marks)*100\n"
   ]
  },
  {
   "cell_type": "code",
   "execution_count": 23,
   "metadata": {},
   "outputs": [],
   "source": [
    "grade=\"\"\n",
    "if percentage >=90:\n",
    "    grade=\"A+\"\n",
    "elif percentage >=80 and percentage <90:\n",
    "    grade=\"A\"\n",
    "elif percentage >=70 and percentage <80:\n",
    "    grade=\"B\"\n",
    "elif percentage >=60 and percentage <70:\n",
    "    grade=\"C\"\n",
    "else:\n",
    "    grade=\"Fail\""
   ]
  },
  {
   "cell_type": "code",
   "execution_count": 24,
   "metadata": {},
   "outputs": [
    {
     "name": "stdout",
     "output_type": "stream",
     "text": [
      "The percentage is 89.2\n",
      "The Grade is:  A\n"
     ]
    }
   ],
   "source": [
    "print(\"The percentage is\",percentage)\n",
    "print(\"The Grade is: \",grade)"
   ]
  },
  {
   "cell_type": "markdown",
   "metadata": {},
   "source": [
    "# 2. Write a program which take input from user and identify that the givennumber is even or odd?"
   ]
  },
  {
   "cell_type": "code",
   "execution_count": 28,
   "metadata": {},
   "outputs": [
    {
     "name": "stdout",
     "output_type": "stream",
     "text": [
      "Enter any number: 15\n",
      "The number is odd\n"
     ]
    }
   ],
   "source": [
    "x=int(input(\"Enter any number: \"))\n",
    "y=x % 2\n",
    "if y > 0:\n",
    "    print(\"The number is odd\")\n",
    "else:\n",
    "     print(\"The number is even\")\n",
    "    "
   ]
  },
  {
   "cell_type": "markdown",
   "metadata": {},
   "source": [
    "# 3. Write a program which print the length of the list?"
   ]
  },
  {
   "cell_type": "code",
   "execution_count": 40,
   "metadata": {},
   "outputs": [
    {
     "name": "stdout",
     "output_type": "stream",
     "text": [
      "The length of list is:  5\n"
     ]
    }
   ],
   "source": [
    "lst=[32,3,3,43,3]\n",
    "print(\"The length of list is: \",len(lst))"
   ]
  },
  {
   "cell_type": "markdown",
   "metadata": {},
   "source": [
    "# 4. Write a Python program to sum all the numeric items in a list?"
   ]
  },
  {
   "cell_type": "code",
   "execution_count": 41,
   "metadata": {},
   "outputs": [
    {
     "name": "stdout",
     "output_type": "stream",
     "text": [
      "Sum of the numeric item in a list is:  84\n"
     ]
    }
   ],
   "source": [
    "print(\"Sum of the numeric item in a list is: \",sum(lst))"
   ]
  },
  {
   "cell_type": "markdown",
   "metadata": {},
   "source": [
    "# 5. Write a Python program to get the largest number from a numeric list"
   ]
  },
  {
   "cell_type": "code",
   "execution_count": 42,
   "metadata": {},
   "outputs": [
    {
     "name": "stdout",
     "output_type": "stream",
     "text": [
      "The large number from the list is:  43\n"
     ]
    }
   ],
   "source": [
    "print(\"The large number from the list is: \",max(lst))"
   ]
  },
  {
   "cell_type": "markdown",
   "metadata": {},
   "source": [
    "# 6.write a program that prints out all the elements of the list that are less than 5"
   ]
  },
  {
   "cell_type": "code",
   "execution_count": 44,
   "metadata": {},
   "outputs": [
    {
     "name": "stdout",
     "output_type": "stream",
     "text": [
      "[1, 1, 2, 3]\n"
     ]
    }
   ],
   "source": [
    "a = [1, 1, 2, 3, 5, 8, 13, 21, 34, 55, 89]\n",
    "print(a[0:4])"
   ]
  }
 ],
 "metadata": {
  "kernelspec": {
   "display_name": "Python 3",
   "language": "python",
   "name": "python3"
  }
 },
 "nbformat": 4,
 "nbformat_minor": 2
}
