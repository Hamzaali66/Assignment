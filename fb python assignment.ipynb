{
 "cells": [
  {
   "cell_type": "markdown",
   "metadata": {},
   "source": [
    "# 1. Write a Python program to print the following string in a specific format\n"
   ]
  },
  {
   "cell_type": "code",
   "execution_count": 8,
   "metadata": {},
   "outputs": [
    {
     "name": "stdout",
     "output_type": "stream",
     "text": [
      "      Twinkle, twinkle, little star,\n",
      "            How I wonder what you are!\n",
      "                     Up above the world so high,\n",
      "                     Like a diamond in the sky.\n",
      "         Twinkle, twinkle, little star,\n",
      "               How I wonder what you are\n",
      "\n"
     ]
    }
   ],
   "source": [
    "text= \"\"\"      Twinkle, twinkle, little star,\n",
    "            How I wonder what you are!\n",
    "                     Up above the world so high,\n",
    "                     Like a diamond in the sky.\n",
    "         Twinkle, twinkle, little star,\n",
    "               How I wonder what you are\n",
    "\"\"\"\n",
    "\n",
    "print(text)"
   ]
  },
  {
   "cell_type": "markdown",
   "metadata": {},
   "source": [
    "# 2. Write a Python program to get the Python version you are using"
   ]
  },
  {
   "cell_type": "code",
   "execution_count": 16,
   "metadata": {},
   "outputs": [
    {
     "name": "stdout",
     "output_type": "stream",
     "text": [
      "3.7.3 (default, Apr 24 2019, 15:29:51) [MSC v.1915 64 bit (AMD64)]\n"
     ]
    }
   ],
   "source": [
    "import sys\n",
    "\n",
    "print(sys.version)"
   ]
  },
  {
   "cell_type": "markdown",
   "metadata": {},
   "source": [
    "# 3. Write a Python program to display the current date and time."
   ]
  },
  {
   "cell_type": "code",
   "execution_count": 75,
   "metadata": {},
   "outputs": [
    {
     "name": "stdout",
     "output_type": "stream",
     "text": [
      "The current date and time is:  2019-10-31 , 20:31:19\n"
     ]
    }
   ],
   "source": [
    "import datetime  #datetime reprent both value\n",
    "x = datetime.datetime.now()\n",
    "print (\"The current date and time is: \",x.strftime(\"%Y-%m-%d %H:%M:%S\"))  #x.strftime(format) returns a string representing the date"
   ]
  },
  {
   "cell_type": "code",
   "execution_count": 70,
   "metadata": {},
   "outputs": [
    {
     "name": "stdout",
     "output_type": "stream",
     "text": [
      "The small 'a' is: Thu\n",
      "The capital 'A' is: Thursday\n",
      "The small 'a' is: Oct\n",
      "The capital 'A' is: October\n"
     ]
    }
   ],
   "source": [
    "import time\n",
    "a=time.strftime('%a',time.localtime()) # the small 'a' give you short answer \n",
    "print(\"The small 'a' is:\", a)\n",
    "import time\n",
    "A=time.strftime('%A',time.localtime()) # the capital 'A' give you complete answer \n",
    "print(\"The capital 'A' is:\", A)\n",
    "\n",
    "a=time.strftime('%b',time.localtime()) # the small 'a' give you short answer \n",
    "print(\"The small 'a' is:\", a)\n",
    "\n",
    "A=time.strftime('%B',time.localtime()) # the capital 'A' give you complete answer \n",
    "print(\"The capital 'A' is:\", A)"
   ]
  },
  {
   "cell_type": "markdown",
   "metadata": {},
   "source": [
    "# Write a Python program which accepts the radius of a circle from the user and compute the area."
   ]
  },
  {
   "cell_type": "code",
   "execution_count": 74,
   "metadata": {},
   "outputs": [
    {
     "name": "stdout",
     "output_type": "stream",
     "text": [
      "Enter the radius of circle: 5\n",
      "The radius of circle is : 78.5\n"
     ]
    }
   ],
   "source": [
    "r=float(input(\"Enter the radius of circle: \"))\n",
    "A=3.14*r**2\n",
    "print(\"The radius of circle is :\" ,A)"
   ]
  },
  {
   "cell_type": "markdown",
   "metadata": {},
   "source": [
    "# Write a Python program which accepts the user's first and last name and print them in reverse order with a space between them."
   ]
  },
  {
   "cell_type": "code",
   "execution_count": 3,
   "metadata": {},
   "outputs": [
    {
     "name": "stdout",
     "output_type": "stream",
     "text": [
      "Enter your first name: hamza\n",
      "Enter your last name: ali\n",
      "The reverse order is: ali hamza\n"
     ]
    }
   ],
   "source": [
    "fname=input(\"Enter your first name: \")\n",
    "lname=input(\"Enter your last name: \")\n",
    "\n",
    "print(\"The reverse order is:\",lname,fname)"
   ]
  },
  {
   "cell_type": "markdown",
   "metadata": {},
   "source": [
    "# Write a python program which takes two inputs from user and print them addition"
   ]
  },
  {
   "cell_type": "code",
   "execution_count": 1,
   "metadata": {},
   "outputs": [
    {
     "name": "stdout",
     "output_type": "stream",
     "text": [
      "Enter a first number :2\n",
      "Enter a second number :2\n",
      "the addition is: 4\n"
     ]
    }
   ],
   "source": [
    "a=int(input(\"Enter a first number :\"))\n",
    "b=int(input(\"Enter a second number :\"))\n",
    "\n",
    "print(\"the addition is:\", a+b)"
   ]
  },
  {
   "cell_type": "code",
   "execution_count": null,
   "metadata": {},
   "outputs": [],
   "source": []
  }
 ],
 "metadata": {
  "kernelspec": {
   "display_name": "Python 3",
   "language": "python",
   "name": "python3"
  },
  "language_info": {
   "codemirror_mode": {
    "name": "ipython",
    "version": 3
   },
   "file_extension": ".py",
   "mimetype": "text/x-python",
   "name": "python",
   "nbconvert_exporter": "python",
   "pygments_lexer": "ipython3",
   "version": "3.7.3"
  }
 },
 "nbformat": 4,
 "nbformat_minor": 2
}
